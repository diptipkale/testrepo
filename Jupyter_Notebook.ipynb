{
 "cells": [
  {
   "cell_type": "markdown",
   "metadata": {},
   "source": [
    "<center>\n",
    "    <img src=\"https://cf-courses-data.s3.us.cloud-object-storage.appdomain.cloud/IBMDeveloperSkillsNetwork-DS0105EN-SkillsNetwork/labs/Module2/images/SN_web_lightmode.png\" width=\"300\" alt=\"cognitiveclass.ai logo\"  />\n",
    "</center>\n"
   ]
  },
  {
   "cell_type": "markdown",
   "metadata": {},
   "source": [
    "#### Add your code below following the instructions given in the course\n"
   ]
  },
  {
   "cell_type": "markdown",
   "metadata": {},
   "source": [
    "# My Jupyter Notebook on IBM Watson Studio"
   ]
  },
  {
   "cell_type": "markdown",
   "metadata": {},
   "source": [
    "**Dipti Kale**<BR>\n",
    "Desired occupation - Data Scientist"
   ]
  },
  {
   "cell_type": "markdown",
   "metadata": {},
   "source": [
    "*I am interested in data science because it helps you find solutions to problems in systematic way based on data.*"
   ]
  },
  {
   "cell_type": "markdown",
   "metadata": {},
   "source": [
    "### Next cell shows the output for simple summation as 2 + 2"
   ]
  },
  {
   "cell_type": "code",
   "execution_count": null,
   "metadata": {},
   "outputs": [],
   "source": [
    "2+2"
   ]
  },
  {
   "cell_type": "markdown",
   "metadata": {},
   "source": [
    "# It's interesting to see how markdown cell can include following :-<BR>\n",
    "**Example 1 - A Numbered List**\n",
    "1. Item one\n",
    "2. Item two\n",
    "    1. Sub Item one\n",
    "3. Item three \n",
    "    \n",
    "***\n",
    "**Example 2 - A Table**\n",
    "\n",
    "| Header 1 | Header 2 | Header 3\n",
    "| --- | --- | --- |\n",
    "| R1 C1 | R1 C2 | R1 C3 |\n",
    "| R2 C1 | R2 C2 | R2 C3 |\n",
    "***\n",
    "**Example 4 - Hyperlink to external site**\n",
    "<br>\n",
    "__[IBM Data Cloud](https://eu-gb.dataplatform.cloud.ibm.com/home2?context=cpdaas)__\n",
    "***\n",
    "**Example 3 - HTML**\n",
    "<div class=\"alert alert-block alert-success\">\n",
    "<b>HTML example:</b> This is how a green box with a <a id=\"section_ID\">hyperlink</a> will look like.\n",
    "</div>"
   ]
  },
  {
   "cell_type": "code",
   "execution_count": null,
   "metadata": {},
   "outputs": [],
   "source": []
  }
 ],
 "metadata": {
  "kernelspec": {
   "display_name": "Python",
   "language": "python",
   "name": "conda-env-python-py"
  },
  "language_info": {
   "codemirror_mode": {
    "name": "ipython",
    "version": 3
   },
   "file_extension": ".py",
   "mimetype": "text/x-python",
   "name": "python",
   "nbconvert_exporter": "python",
   "pygments_lexer": "ipython3",
   "version": "3.7.12"
  }
 },
 "nbformat": 4,
 "nbformat_minor": 4
}
