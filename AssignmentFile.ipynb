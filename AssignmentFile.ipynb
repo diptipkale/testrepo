{
  "metadata": {
    "language_info": {
      "codemirror_mode": {
        "name": "python",
        "version": 3
      },
      "file_extension": ".py",
      "mimetype": "text/x-python",
      "name": "python",
      "nbconvert_exporter": "python",
      "pygments_lexer": "ipython3",
      "version": "3.8"
    },
    "kernelspec": {
      "name": "python",
      "display_name": "Python (Pyodide)",
      "language": "python"
    }
  },
  "nbformat_minor": 4,
  "nbformat": 4,
  "cells": [
    {
      "cell_type": "markdown",
      "source": "# My Jupyter Notebook on IBM Watson Studio",
      "metadata": {}
    },
    {
      "cell_type": "markdown",
      "source": "**Dipti Kale**<BR>\nDesired occupation - Data Scientist",
      "metadata": {}
    },
    {
      "cell_type": "markdown",
      "source": "*I am interested in data science because it helps you find solutions to problems in systematic way based on data.*",
      "metadata": {}
    },
    {
      "cell_type": "markdown",
      "source": "### Next cell shows the output for simple summation as 2 + 2",
      "metadata": {}
    },
    {
      "cell_type": "code",
      "source": "2+2",
      "metadata": {
        "trusted": true
      },
      "execution_count": 11,
      "outputs": [
        {
          "execution_count": 11,
          "output_type": "execute_result",
          "data": {
            "text/plain": "4"
          },
          "metadata": {}
        }
      ]
    },
    {
      "cell_type": "markdown",
      "source": "# It's interesting to see how markdown cell can include following :-<BR>\n**Example 1 - A Numbered List**\n1. Item one\n2. Item two\n    1. Sub Item one\n3. Item three \n    \n***\n**Example 2 - A Table**\n\n| Header 1 | Header 2 | Header 3\n| --- | --- | --- |\n| R1 C1 | R1 C2 | R1 C3 |\n| R2 C1 | R2 C2 | R2 C3 |\n***\n**Example 4 - Hyperlink to external site**\n<br>\n__[IBM Data Cloud](https://eu-gb.dataplatform.cloud.ibm.com/home2?context=cpdaas)__\n***\n**Example 3 - HTML**\n<div class=\"alert alert-block alert-success\">\n<b>HTML example:</b> This is how a green box with a <a id=\"section_ID\">hyperlink</a> will look like.\n</div>",
      "metadata": {}
    },
    {
      "cell_type": "code",
      "source": "",
      "metadata": {},
      "execution_count": null,
      "outputs": []
    }
  ]
}